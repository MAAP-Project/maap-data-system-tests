{
 "cells": [
  {
   "cell_type": "markdown",
   "metadata": {},
   "source": [
    "# WMTS Tests"
   ]
  },
  {
   "cell_type": "code",
   "execution_count": 1,
   "metadata": {},
   "outputs": [],
   "source": [
    "from maap.maap import MAAP\n",
    "from maap_test_helper import *\n",
    "import requests\n",
    "from bs4 import BeautifulSoup\n"
   ]
  },
  {
   "cell_type": "code",
   "execution_count": 5,
   "metadata": {
    "tags": [
     "parameters"
    ]
   },
   "outputs": [],
   "source": [
    "# papermill parameters cell\n",
    "\n",
    "stage = \"dit\"\n"
   ]
  },
  {
   "cell_type": "code",
   "execution_count": 3,
   "metadata": {},
   "outputs": [],
   "source": [
    "stage = \"production\"  # todo: fix dit, as it currently fails, but production succeeds\n",
    "\n",
    "maap_host=populate_maap_api_host(stage)\n"
   ]
  },
  {
   "cell_type": "code",
   "execution_count": 4,
   "metadata": {},
   "outputs": [
    {
     "ename": "AssertionError",
     "evalue": "",
     "output_type": "error",
     "traceback": [
      "\u001b[0;31m---------------------------------------------------------------------------\u001b[0m",
      "\u001b[0;31mAssertionError\u001b[0m                            Traceback (most recent call last)",
      "\u001b[0;32m/var/folders/j0/cxn4ctnx4kv5j_zvr8_8gzl80000gp/T/ipykernel_74451/829733810.py\u001b[0m in \u001b[0;36m<module>\u001b[0;34m\u001b[0m\n\u001b[1;32m      1\u001b[0m \u001b[0mget_capabilities_response\u001b[0m \u001b[0;34m=\u001b[0m \u001b[0mrequests\u001b[0m\u001b[0;34m.\u001b[0m\u001b[0mget\u001b[0m\u001b[0;34m(\u001b[0m\u001b[0;34mf'https://{maap_host}/api/wmts/GetCapabilities'\u001b[0m\u001b[0;34m)\u001b[0m\u001b[0;34m\u001b[0m\u001b[0;34m\u001b[0m\u001b[0m\n\u001b[0;32m----> 2\u001b[0;31m \u001b[0;32massert\u001b[0m \u001b[0mget_capabilities_response\u001b[0m\u001b[0;34m.\u001b[0m\u001b[0mstatus_code\u001b[0m \u001b[0;34m==\u001b[0m \u001b[0;36m200\u001b[0m\u001b[0;34m\u001b[0m\u001b[0;34m\u001b[0m\u001b[0m\n\u001b[0m\u001b[1;32m      3\u001b[0m \u001b[0;34m\u001b[0m\u001b[0m\n\u001b[1;32m      4\u001b[0m \u001b[0msoup\u001b[0m \u001b[0;34m=\u001b[0m \u001b[0mBeautifulSoup\u001b[0m\u001b[0;34m(\u001b[0m\u001b[0mget_capabilities_response\u001b[0m\u001b[0;34m.\u001b[0m\u001b[0mtext\u001b[0m\u001b[0;34m,\u001b[0m \u001b[0;34m'xml'\u001b[0m\u001b[0;34m)\u001b[0m\u001b[0;34m\u001b[0m\u001b[0;34m\u001b[0m\u001b[0m\n\u001b[1;32m      5\u001b[0m \u001b[0;34m\u001b[0m\u001b[0m\n",
      "\u001b[0;31mAssertionError\u001b[0m: "
     ]
    }
   ],
   "source": [
    "\n",
    "get_capabilities_response = requests.get(f'https://{maap_host}/api/wmts/GetCapabilities')\n",
    "assert get_capabilities_response.status_code == 200\n",
    "\n",
    "soup = BeautifulSoup(get_capabilities_response.text, 'xml')\n",
    "\n",
    "assert {x['name'] for x in soup.find_all('ows:Operation')} == {\n",
    "    \"GetCapabilities\", \"GetTile\"}\n",
    "\n",
    "layers = soup.find_all('Layer')\n",
    "assert layers\n",
    "\n",
    "assert {x.find(\"ows:Title\").string for x in layers} == {\n",
    "    'AfriSAR_UAVSAR_Coreg_SLC', 'AFLVIS2'}\n",
    "\n",
    "tile_matrix = \"5\" \n",
    "tile_col = \"17\"\n",
    "tile_row = \"16\"\n",
    "\n",
    "for layer in layers:\n",
    "  get_tile_url = layer.find(\"ResourceURL\")['template']\n",
    "  populated_url = get_tile_url.replace(\n",
    "      \"{TileMatrix}\", tile_matrix).replace(\"{TileCol}\", tile_col).replace(\"{TileRow}\", tile_row)\n",
    "  response = requests.get(populated_url)\n",
    "  assert response.status_code == 200\n"
   ]
  }
 ],
 "metadata": {
  "kernelspec": {
   "display_name": "Python 3 (ipykernel)",
   "language": "python",
   "name": "python3"
  },
  "language_info": {
   "codemirror_mode": {
    "name": "ipython",
    "version": 3
   },
   "file_extension": ".py",
   "mimetype": "text/x-python",
   "name": "python",
   "nbconvert_exporter": "python",
   "pygments_lexer": "ipython3",
   "version": "3.9.7"
  }
 },
 "nbformat": 4,
 "nbformat_minor": 4
}
