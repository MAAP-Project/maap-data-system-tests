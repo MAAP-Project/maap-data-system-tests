{
 "cells": [
  {
   "cell_type": "markdown",
   "metadata": {},
   "source": [
    "# WMTS Tests"
   ]
  },
  {
   "cell_type": "code",
   "execution_count": 1,
   "metadata": {},
   "outputs": [],
   "source": [
    "from maap.maap import MAAP\n",
    "from maap_test_helper import *\n",
    "import requests\n",
    "from bs4 import BeautifulSoup\n"
   ]
  },
  {
   "cell_type": "code",
   "execution_count": 12,
   "metadata": {
    "tags": [
     "parameters"
    ]
   },
   "outputs": [],
   "source": [
    "# papermill parameters cell\n",
    "\n",
    "stage = \"dit\""
   ]
  },
  {
   "cell_type": "code",
   "execution_count": 13,
   "metadata": {},
   "outputs": [
    {
     "name": "stdout",
     "output_type": "stream",
     "text": [
      "api.dit.maap-project.org\n"
     ]
    }
   ],
   "source": [
    "maap_host = populate_maap_api_host(stage)\n",
    "get_capabilities_response = requests.get(f'https://{maap_host}/api/wmts/GetCapabilities')\n",
    "assert get_capabilities_response.status_code == 200\n",
    "\n",
    "soup = BeautifulSoup(get_capabilities_response.text, 'xml')\n",
    "\n",
    "assert {x['name'] for x in soup.find_all('ows:Operation')} == {\n",
    "  \"GetCapabilities\", \"GetTile\"}\n",
    "\n",
    "layers = soup.find_all('Layer')\n",
    "assert layers\n",
    "\n",
    "assert {x.find(\"ows:Title\").string for x in layers} == {\n",
    "  'AfriSAR_UAVSAR_Coreg_SLC', 'AFLVIS2'}\n",
    "\n",
    "tile_matrix = \"5\" \n",
    "tile_col = \"17\"\n",
    "tile_row = \"16\"\n",
    "\n",
    "for layer in layers:\n",
    "    get_tile_url = layer.find(\"ResourceURL\")['template']\n",
    "    populated_url = get_tile_url.replace(\n",
    "        \"{TileMatrix}\", tile_matrix).replace(\"{TileCol}\", tile_col).replace(\"{TileRow}\", tile_row)\n",
    "    response = requests.get(populated_url)\n",
    "    assert response.status_code == 200\n"
   ]
  }
 ],
 "metadata": {
  "kernelspec": {
   "display_name": "Python 3 (ipykernel)",
   "language": "python",
   "name": "python3"
  },
  "language_info": {
   "codemirror_mode": {
    "name": "ipython",
    "version": 3
   },
   "file_extension": ".py",
   "mimetype": "text/x-python",
   "name": "python",
   "nbconvert_exporter": "python",
   "pygments_lexer": "ipython3",
   "version": "3.7.4"
  }
 },
 "nbformat": 4,
 "nbformat_minor": 4
}
