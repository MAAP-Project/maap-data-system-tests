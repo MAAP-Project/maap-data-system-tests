{
 "cells": [
  {
   "cell_type": "markdown",
   "metadata": {},
   "source": [
    "# TiTiler Tests"
   ]
  },
  {
   "cell_type": "code",
   "execution_count": 29,
   "metadata": {},
   "outputs": [],
   "source": [
    "from maap_test_helper import *\n",
    "import requests\n",
    "from PIL import Image\n",
    "from io import BytesIO\n",
    "from cogeo_mosaic.mosaic import MosaicJSON\n"
   ]
  },
  {
   "cell_type": "code",
   "execution_count": 30,
   "metadata": {
    "tags": [
     "parameters"
    ]
   },
   "outputs": [],
   "source": [
    "# papermill parameters cell\n",
    "\n",
    "stage = \"dit\"\n"
   ]
  },
  {
   "cell_type": "code",
   "execution_count": 31,
   "metadata": {},
   "outputs": [],
   "source": [
    "maap_host=populate_maap_api_host(stage)\n",
    "\n",
    "titiler_host = maap_host.replace(\"api.\", \"titiler.\")\n",
    "titiler_host = titiler_host.replace(\"ops.\", \"\")\n",
    "\n",
    "cog_url = \"s3://nasa-maap-data-store/file-staging/nasa-map/SRTMGL1_COD___001/N48E006.SRTMGL1.tif\"\n"
   ]
  },
  {
   "cell_type": "code",
   "execution_count": 32,
   "metadata": {},
   "outputs": [],
   "source": [
    "\n",
    "url = f\"https://{titiler_host}/cog/tiles/WebMercatorQuad/0/0/0@1x.png\"\n",
    "\n",
    "res = requests.get(url, params={\"TileMatrixSetId\": \"WebMercatorQuad\", \"url\": cog_url})\n",
    "\n",
    "assert res.status_code == 200\n",
    "assert Image.open(BytesIO(res.content)).format == \"PNG\""
   ]
  },
  {
   "cell_type": "code",
   "execution_count": 33,
   "metadata": {},
   "outputs": [],
   "source": [
    "url = f\"https://{titiler_host}/cog/bounds\"\n",
    "res = requests.get(url, params={\"url\": cog_url})\n",
    "\n",
    "assert res.status_code == 200\n",
    "assert res.json()['bounds'] == [5.9998611111111115,\n",
    "                                47.999861111111116, 7.000138888888889, 49.00013888888889]\n"
   ]
  },
  {
   "cell_type": "code",
   "execution_count": 38,
   "metadata": {},
   "outputs": [],
   "source": [
    "r_stac = requests.post(\n",
    "    \"https://cmr-stac.dit.maap-project.org/stac/NASA_MAAP/search\",\n",
    "    headers={\n",
    "      \"Content-Type\": \"application/json\",\n",
    "      \"Accept\": \"application/geo+json, application/json\",\n",
    "    }, \n",
    "    json={\n",
    "      \"collections\": [\"SRTMGL1_COD.v001\"],\n",
    "      \"bbox\": \"4,42,16,48\",\n",
    "      \"limit\": 120\n",
    "    }\n",
    ")\n",
    "\n",
    "items = r_stac.json()\n",
    "\n",
    "mosaicdata = MosaicJSON.from_features(\n",
    "  items.get('features'), \n",
    "  minzoom=6, \n",
    "  maxzoom=12, \n",
    "  accessor=lambda feature: feature['assets']['browse']['href']\n",
    ")\n",
    "\n",
    "res = requests.post(\n",
    "    url=f\"https://{titiler_host}/mosaicjson/mosaics\",\n",
    "    headers={\n",
    "        \"Content-Type\": \"application/vnd.titiler.mosaicjson+json\",\n",
    "    },\n",
    "    json=mosaicdata.dict(exclude_none=True))\n",
    "\n",
    "assert res.status_code == 201\n",
    "mosaicjson_mosaic = res.json()\n",
    "\n"
   ]
  },
  {
   "cell_type": "code",
   "execution_count": 39,
   "metadata": {},
   "outputs": [],
   "source": [
    "def get_link_by_href(json: dict, rel: str):\n",
    "  return next(filter(\n",
    "      lambda x: x[\"rel\"] == rel, json[\"links\"]))[\"href\"]\n",
    "\n",
    "mosaicjson_mosaic = res.json()\n",
    "\n",
    "self_href = get_link_by_href(mosaicjson_mosaic, \"self\")\n",
    "assert res.headers['location'] == self_href\n",
    "\n",
    "assert requests.get(get_link_by_href(mosaicjson_mosaic,\n",
    "             \"mosaicjson\")).status_code == 200\n",
    "assert requests.get(get_link_by_href(\n",
    "    mosaicjson_mosaic, \"tilejson\")).status_code == 200\n",
    "\n",
    "# todo: find a tile that renders in a reasonable amount of time\n",
    "#tile_template = get_link_by_href(mosaicjson_mosaic, \"tiles\")\n",
    "#tile_url = tile_template.replace(\"{x}\", \"0\").replace(\"{y}\", \"0\").replace(\"{z}\", \"0\")\n",
    "#assert requests.get(tile_url).status_code == 200\n",
    "\n",
    "assert requests.get(get_link_by_href(mosaicjson_mosaic, \"wmts\")).status_code == 200\n",
    "\n",
    "assert requests.delete(self_href).status_code == 204\n"
   ]
  }
 ],
 "metadata": {
  "kernelspec": {
   "display_name": "Python 3 (ipykernel)",
   "language": "python",
   "name": "python3"
  },
  "language_info": {
   "codemirror_mode": {
    "name": "ipython",
    "version": 3
   },
   "file_extension": ".py",
   "mimetype": "text/x-python",
   "name": "python",
   "nbconvert_exporter": "python",
   "pygments_lexer": "ipython3",
   "version": "3.9.7"
  }
 },
 "nbformat": 4,
 "nbformat_minor": 4
}
