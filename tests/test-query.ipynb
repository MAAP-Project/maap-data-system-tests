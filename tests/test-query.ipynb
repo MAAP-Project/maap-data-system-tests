{
 "cells": [
  {
   "cell_type": "markdown",
   "metadata": {},
   "source": [
    "# Query Tests"
   ]
  },
  {
   "cell_type": "code",
   "execution_count": 1,
   "metadata": {},
   "outputs": [],
   "source": [
    "from maap.maap import MAAP\n",
    "from maap_test_helper import *"
   ]
  },
  {
   "cell_type": "code",
   "execution_count": 2,
   "metadata": {
    "tags": [
     "parameters"
    ]
   },
   "outputs": [],
   "source": [
    "# papermill parameters cell\n",
    "\n",
    "stage = \"dit\"\n"
   ]
  },
  {
   "cell_type": "code",
   "execution_count": 3,
   "metadata": {},
   "outputs": [],
   "source": [
    "if stage != \"dit\": # SKIP until dit is fixed\n",
    "    maap = MAAP(maap_host=populate_maap_api_host(stage))\n",
    "    collection = {\n",
    "        \"Collection\": {\n",
    "            \"ShortName\": \"GEDI Cal/Val Field Data_1\",\n",
    "            \"VersionId\": \"2\"\n",
    "        }\n",
    "    }\n",
    "    bbox = [9.31, 0.53, 9.32, 0.54]\n",
    "    response = maap.executeQuery(\n",
    "        src=collection,\n",
    "        query={\n",
    "            \"bbox\": bbox,\n",
    "            \"table\": \"plot\"\n",
    "        }\n",
    "    )\n",
    "\n",
    "    assert response.json()[0][\"project\"] == \"gabon_mondah\"\n",
    "\n",
    "\n",
    "    response = maap.executeQuery(\n",
    "        src=collection,\n",
    "        query={\n",
    "            \"bbox\": bbox,\n",
    "            \"table\": \"tree\"\n",
    "        }\n",
    "    )\n",
    "\n",
    "    assert response.json()[0][\"project\"] == \"gabon_mondah\"\n"
   ]
  }
 ],
 "metadata": {
  "kernelspec": {
   "display_name": "Python 3 (ipykernel)",
   "language": "python",
   "name": "python3"
  },
  "language_info": {
   "codemirror_mode": {
    "name": "ipython",
    "version": 3
   },
   "file_extension": ".py",
   "mimetype": "text/x-python",
   "name": "python",
   "nbconvert_exporter": "python",
   "pygments_lexer": "ipython3",
   "version": "3.9.7"
  }
 },
 "nbformat": 4,
 "nbformat_minor": 4
}
