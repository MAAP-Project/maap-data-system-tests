{
 "cells": [
  {
   "cell_type": "markdown",
   "metadata": {},
   "source": [
    "# Query Tests"
   ]
  },
  {
   "cell_type": "code",
   "execution_count": 1,
   "metadata": {},
   "outputs": [],
   "source": [
    "from maap.maap import MAAP\n",
    "from maap_test_helper import *"
   ]
  },
  {
   "cell_type": "code",
   "execution_count": 2,
   "metadata": {
    "tags": [
     "parameters"
    ]
   },
   "outputs": [],
   "source": [
    "# papermill parameters cell\n",
    "\n",
    "stage = \"dit\"\n"
   ]
  },
  {
   "cell_type": "code",
   "execution_count": 3,
   "metadata": {},
   "outputs": [],
   "source": [
    "maap = MAAP(maap_host=populate_maap_api_host(stage))\n"
   ]
  },
  {
   "cell_type": "code",
   "execution_count": 4,
   "metadata": {},
   "outputs": [],
   "source": [
    "response = maap.executeQuery(\n",
    "     # dictionary-like object specifying the dataset to query\n",
    "    src={\n",
    "        \"Collection\": {\n",
    "            \"ShortName\": \"GEDI Cal/Val Field Data_1\",\n",
    "            \"VersionId\": \"2\"\n",
    "        }\n",
    "    },\n",
    "      # dictionary-like object specifying the parameters for query\n",
    "      query={\n",
    "        \"bbox\": [9.31, 0.53, 9.32, 0.54],\n",
    "        \"table\": \"plot\"\n",
    "    }\n",
    ")\n",
    "\n",
    "data = response.json()\n",
    "assert data[0][\"project\"] == \"gabon_mondah\"\n",
    "\n",
    "response = maap.executeQuery(\n",
    "    # dictionary-like object specifying the dataset to query\n",
    "    src={\n",
    "        \"Collection\": {\n",
    "            \"ShortName\": \"GEDI Cal/Val Field Data_1\",\n",
    "            \"VersionId\": \"2\"\n",
    "        }\n",
    "    },\n",
    "    # dictionary-like object specifying the parameters for query\n",
    "    query={\n",
    "        \"bbox\": [9.31, 0.53, 9.32, 0.54],\n",
    "        \"table\": \"tree\"\n",
    "    }\n",
    ")\n",
    "\n",
    "data = response.json()\n",
    "assert data[0][\"project\"] == \"gabon_mondah\"\n"
   ]
  }
 ],
 "metadata": {
  "kernelspec": {
   "display_name": "Python 3 (ipykernel)",
   "language": "python",
   "name": "python3"
  },
  "language_info": {
   "codemirror_mode": {
    "name": "ipython",
    "version": 3
   },
   "file_extension": ".py",
   "mimetype": "text/x-python",
   "name": "python",
   "nbconvert_exporter": "python",
   "pygments_lexer": "ipython3",
   "version": "3.9.7"
  }
 },
 "nbformat": 4,
 "nbformat_minor": 4
}
