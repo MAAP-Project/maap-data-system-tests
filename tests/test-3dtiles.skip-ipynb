{
 "cells": [
  {
   "cell_type": "markdown",
   "metadata": {},
   "source": [
    "# 3dtiles Tests"
   ]
  },
  {
   "cell_type": "code",
   "execution_count": 17,
   "metadata": {},
   "outputs": [],
   "source": [
    "from maap.maap import MAAP\n",
    "from maap_test_helper import *\n",
    "import pytest\n",
    "import requests"
   ]
  },
  {
   "cell_type": "code",
   "execution_count": 18,
   "metadata": {
    "tags": [
     "parameters"
    ]
   },
   "outputs": [],
   "source": [
    "# papermill parameters cell\n",
    "\n",
    "stage = \"dit\"\n"
   ]
  },
  {
   "cell_type": "code",
   "execution_count": 25,
   "metadata": {},
   "outputs": [],
   "source": [
    "\n",
    "# todo: 3dtiles endpoint is only deployed to dit\n",
    "# maap_api_url = populate_maap_api_host(stage)\n",
    "maap_api_url = \"api.dit.maap-project.org\"\n",
    "\n",
    "maap_api_3dtiles_url = f\"https://{maap_api_url}/api/3d-tiles/ATL08_ARD-beta___001/afrisar/ept/ept-tileset/tileset.json\"\n",
    "tileset_response = requests.get(maap_api_3dtiles_url)\n",
    "\n",
    "assert tileset_response.status_code == 200\n",
    "assert list(json.loads(tileset_response.text).keys()) == ['asset', 'geometricError', 'root']\n"
   ]
  }
 ],
 "metadata": {
  "kernelspec": {
   "display_name": "Python 3 (ipykernel)",
   "language": "python",
   "name": "python3"
  },
  "language_info": {
   "codemirror_mode": {
    "name": "ipython",
    "version": 3
   },
   "file_extension": ".py",
   "mimetype": "text/x-python",
   "name": "python",
   "nbconvert_exporter": "python",
   "pygments_lexer": "ipython3",
   "version": "3.7.8"
  }
 },
 "nbformat": 4,
 "nbformat_minor": 4
}
