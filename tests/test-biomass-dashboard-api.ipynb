{
 "cells": [
  {
   "cell_type": "markdown",
   "metadata": {},
   "source": [
    "# Biomass Dashboard API Tests"
   ]
  },
  {
   "cell_type": "code",
   "execution_count": 4,
   "metadata": {},
   "outputs": [],
   "source": [
    "import requests\n",
    "from typing import List"
   ]
  },
  {
   "cell_type": "code",
   "execution_count": 5,
   "metadata": {
    "tags": [
     "parameters"
    ]
   },
   "outputs": [],
   "source": [
    "# papermill parameters cell\n",
    "\n",
    "stage = \"dit\"\n"
   ]
  },
  {
   "cell_type": "code",
   "execution_count": 6,
   "metadata": {},
   "outputs": [],
   "source": [
    "def populate_bm_api_host(stage):\n",
    "    if stage == \"production\":\n",
    "        return \"https://gdehvjde39.execute-api.us-west-2.amazonaws.com/v1\"\n",
    "    elif stage == \"staging\":\n",
    "        return \"https://edovdgv7c6.execute-api.us-west-2.amazonaws.com/v1\"\n",
    "    elif stage in [\"main\", \"dit\"]:\n",
    "        return \"https://jsvuwyxsjh.execute-api.us-west-2.amazonaws.com/v1\"\n",
    "    else:\n",
    "\n",
    "        exit(1)\n",
    "\n",
    "\n",
    "bm_api_host = populate_bm_api_host(stage)\n",
    "\n",
    "def get_by_id(items: List[dict], _id: str):\n",
    "  return next(filter(\n",
    "      lambda x: x[\"id\"] == _id, items), None)\n",
    "\n",
    "\n",
    "def test_resource(resource_name: str, min_count: int, entity_id: str, \n",
    "    include_global: bool = False, validate_same_list_entity: bool = True):\n",
    "\n",
    "  res = requests.get(f\"{bm_api_host}/{resource_name}\")\n",
    "\n",
    "  assert res.status_code == 200\n",
    "  assert len(res.json()[resource_name]) >= min_count\n",
    "  assert get_by_id(res.json()[resource_name], \"non-existant\") == None\n",
    "  if include_global:\n",
    "    assert get_by_id(res.json()[resource_name], \"global\")[\"id\"] == \"global\"\n",
    "  entity_from_list = get_by_id(res.json()[resource_name], entity_id)\n",
    "  assert entity_from_list[\"id\"] == entity_id\n",
    "\n",
    "  res = requests.get(f\"{bm_api_host}/{resource_name}/{entity_id}\")\n",
    "  assert res.status_code == 200\n",
    "\n",
    "  if validate_same_list_entity:\n",
    "    assert entity_from_list == res.json()\n"
   ]
  },
  {
   "cell_type": "markdown",
   "metadata": {},
   "source": [
    "## Test Endpoints"
   ]
  },
  {
   "cell_type": "code",
   "execution_count": 7,
   "metadata": {},
   "outputs": [],
   "source": [
    "test_resource(\"products\", min_count=6, entity_id=\"cci_biomass\", include_global=True)\n",
    "test_resource(\"country_pilots\", min_count=5, entity_id=\"japan\")\n",
    "\n",
    "# SKIP: https://github.com/MAAP-Project/biomass-dashboard-api/pull/16\n",
    "# validate_same_list_entity can be removed when this bug gets fixed\n",
    "test_resource(\"datasets\", min_count=5, entity_id=\"icesat2_boreal_landsat8\", validate_same_list_entity=False)\n"
   ]
  }
 ],
 "metadata": {
  "kernelspec": {
   "display_name": "Python 3 (ipykernel)",
   "language": "python",
   "name": "python3"
  },
  "language_info": {
   "codemirror_mode": {
    "name": "ipython",
    "version": 3
   },
   "file_extension": ".py",
   "mimetype": "text/x-python",
   "name": "python",
   "nbconvert_exporter": "python",
   "pygments_lexer": "ipython3",
   "version": "3.9.5"
  }
 },
 "nbformat": 4,
 "nbformat_minor": 4
}
