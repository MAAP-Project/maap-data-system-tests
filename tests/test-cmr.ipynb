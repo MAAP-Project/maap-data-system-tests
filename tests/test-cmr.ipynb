{
 "cells": [
  {
   "cell_type": "markdown",
   "metadata": {},
   "source": [
    "# CMR Tests"
   ]
  },
  {
   "cell_type": "code",
   "execution_count": 1,
   "metadata": {},
   "outputs": [],
   "source": [
    "from maap.maap import MAAP\n",
    "from maap_test_helper import *\n",
    "import pytest\n"
   ]
  },
  {
   "cell_type": "code",
   "execution_count": 2,
   "metadata": {
    "tags": [
     "parameters"
    ]
   },
   "outputs": [],
   "source": [
    "# papermill parameters cell\n",
    "\n",
    "stage = \"dit\"\n"
   ]
  },
  {
   "cell_type": "code",
   "execution_count": 3,
   "metadata": {},
   "outputs": [],
   "source": [
    "maap = MAAP(maap_host=populate_maap_api_host(stage))\n",
    "\n",
    "ATL03_004_CONCEPT_ID = \"C1201300747-NASA_MAAP\"\n"
   ]
  },
  {
   "cell_type": "code",
   "execution_count": 4,
   "metadata": {},
   "outputs": [],
   "source": [
    "collection_count = len(maap.searchCollection())\n",
    "\n",
    "assert_results(\n",
    "    \"collection search results, default limit\",\n",
    "    maap.searchCollection(),\n",
    "    (72, None)\n",
    ")\n",
    "\n",
    "assert_results(\n",
    "    \"collection search results, limit 0\",\n",
    "    maap.searchCollection(limit=0),\n",
    "    0\n",
    ")\n",
    "\n",
    "assert_results(\n",
    "    \"collection search results, limit 1\",\n",
    "    maap.searchCollection(limit=1),\n",
    "    1\n",
    ")\n",
    "\n",
    "assert_results(\n",
    "    f\"collection search results, limit to collection count {collection_count}\",\n",
    "    maap.searchCollection(limit=collection_count),\n",
    "    collection_count\n",
    ")\n",
    "\n",
    "assert_results(\n",
    "    f\"collection search results, limit to collection count {collection_count+1}\",\n",
    "    maap.searchCollection(limit=collection_count+1),\n",
    "    collection_count\n",
    ")\n",
    "\n",
    "assert_results(\n",
    "    \"collection search results, limit 1000\",\n",
    "    maap.searchCollection(limit=1000),\n",
    "    (collection_count, 1000)\n",
    ")\n"
   ]
  },
  {
   "cell_type": "code",
   "execution_count": 5,
   "metadata": {},
   "outputs": [],
   "source": [
    "assert_results(\n",
    "    \"collection search results, temporal filter\",\n",
    "    maap.searchCollection(\n",
    "        temporal='2000-01-01T00:00:00Z,2000-01-31T23:59:59Z'),\n",
    "    (4, None)\n",
    ")\n",
    "\n",
    "assert_results(\n",
    "    \"collection search results, spatial filter\",\n",
    "    maap.searchCollection(bounding_box='-42,10,42,20'),\n",
    "    (22, None)\n",
    ")\n"
   ]
  },
  {
   "cell_type": "code",
   "execution_count": 6,
   "metadata": {},
   "outputs": [],
   "source": [
    "assert_results(\n",
    "    \"collection search results, site_name filter\",\n",
    "    maap.searchCollection(site_name=\"Lope National Park Gabon\"),\n",
    "    5\n",
    ")\n"
   ]
  },
  {
   "cell_type": "code",
   "execution_count": 7,
   "metadata": {},
   "outputs": [],
   "source": [
    "assert_results(\n",
    "    \"granule search results by the Collection Concept ID for the ATLAS dataset\",\n",
    "    maap.searchGranule(concept_id=ATL03_004_CONCEPT_ID, limit=100),\n",
    "    100\n",
    ")\n",
    "\n",
    "assert_results(\n",
    "    \"granule search results by shortname and version for the ATLAS dataset\",\n",
    "    maap.searchGranule(short_name='ATL03', version=\"004\", limit=100),\n",
    "    100\n",
    ")\n"
   ]
  },
  {
   "cell_type": "code",
   "execution_count": 8,
   "metadata": {},
   "outputs": [],
   "source": [
    "# this call does not include a collection restriction, so returns an error\n",
    "with pytest.raises(ValueError) as e:\n",
    "    maap.searchGranule(temporal='2018-12-01T00:00:00Z,2018-12-31T23:59:59Z')\n",
    "\n",
    "assert str(e.value).startswith(\"Bad search response\")\n"
   ]
  },
  {
   "cell_type": "code",
   "execution_count": 9,
   "metadata": {},
   "outputs": [],
   "source": [
    "assert_results(\n",
    "    \"granule search results by temporal filter\",\n",
    "    maap.searchGranule(\n",
    "        concept_id=ATL03_004_CONCEPT_ID,\n",
    "        temporal='2018-12-01T00:00:00Z,2018-12-31T23:59:59Z'),\n",
    "    20\n",
    ")\n"
   ]
  },
  {
   "cell_type": "code",
   "execution_count": 10,
   "metadata": {},
   "outputs": [],
   "source": [
    "assert_results(\n",
    "    \"granule search results by spatial filter with no results\",\n",
    "    maap.searchGranule(\n",
    "        concept_id=ATL03_004_CONCEPT_ID,\n",
    "        temporal='2000-12-01T00:00:00Z,2001-12-31T23:59:59Z'),    \n",
    "        0\n",
    ")\n"
   ]
  },
  {
   "cell_type": "code",
   "execution_count": 11,
   "metadata": {},
   "outputs": [],
   "source": [
    "assert_results(\n",
    "    \"granule search results by spatial filter\",\n",
    "    maap.searchGranule(\n",
    "        concept_id=ATL03_004_CONCEPT_ID,\n",
    "        bounding_box='100,10,110,20'),\n",
    "    20\n",
    ")\n"
   ]
  }
 ],
 "metadata": {
  "kernelspec": {
   "display_name": "Python 3 (ipykernel)",
   "language": "python",
   "name": "python3"
  },
  "language_info": {
   "codemirror_mode": {
    "name": "ipython",
    "version": 3
   },
   "file_extension": ".py",
   "mimetype": "text/x-python",
   "name": "python",
   "nbconvert_exporter": "python",
   "pygments_lexer": "ipython3",
   "version": "3.9.7"
  }
 },
 "nbformat": 4,
 "nbformat_minor": 4
}
