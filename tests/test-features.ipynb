{
 "cells": [
  {
   "cell_type": "markdown",
   "metadata": {},
   "source": [
    "# Features Tests"
   ]
  },
  {
   "cell_type": "code",
   "execution_count": 1,
   "metadata": {},
   "outputs": [],
   "source": [
    "import requests\n",
    "import pytest"
   ]
  },
  {
   "cell_type": "code",
   "execution_count": 5,
   "metadata": {
    "tags": [
     "parameters"
    ]
   },
   "outputs": [],
   "source": [
    "# papermill parameters cell\n",
    "\n",
    "stage = \"dit\"\n"
   ]
  },
  {
   "cell_type": "code",
   "execution_count": 6,
   "metadata": {},
   "outputs": [],
   "source": [
    "if stage == \"production\":\n",
    "    features_url = \"https://enreke9wo4.execute-api.us-west-2.amazonaws.com\"\n",
    "elif stage in [\"main\", \"dit\"]:\n",
    "    features_url = \"https://m9kgron4c5.execute-api.us-west-2.amazonaws.com\"\n",
    "else:\n",
    "    features_url = \"\""
   ]
  },
  {
   "cell_type": "code",
   "execution_count": 10,
   "metadata": {},
   "outputs": [],
   "source": [
    "if stage == \"production\":  # SKIP dit and main until they are fixed\n",
    "    res = requests.get(f\"{features_url}/collections\")\n",
    "    assert res.status_code == 200\n",
    "    assert {\"Global\", \"AfriSAR\"}.issubset({ x[\"id\"] for x in res.json()[\"collections\"] })\n",
    "\n",
    "    res = requests.get(\n",
    "      f\"{features_url}/collections/AfriSAR/items\")\n",
    "    assert res.status_code == 200\n",
    "    assert len(res.json()[\"features\"]) == 10\n",
    "\n",
    "    res = requests.get(\n",
    "      f\"{features_url}/collections/AfriSAR/items\", params={\"bbox\": \"0,0,20,20\"})\n",
    "    assert res.status_code == 200\n",
    "    assert len(res.json()[\"features\"]) == 10\n",
    "\n",
    "#     FIXME: this raises a 500\n",
    "#     res = requests.get(\n",
    "#         f\"{features_url}/collections/AfriSAR/items\", params={\"bbox\": \"0,0,1,1\"})\n",
    "#     assert res.status_code == 200\n",
    "#     assert len(res.json()[\"features\"]) == 0\n"
   ]
  }
 ],
 "metadata": {
  "kernelspec": {
   "display_name": "Python 3 (ipykernel)",
   "language": "python",
   "name": "python3"
  },
  "language_info": {
   "codemirror_mode": {
    "name": "ipython",
    "version": 3
   },
   "file_extension": ".py",
   "mimetype": "text/x-python",
   "name": "python",
   "nbconvert_exporter": "python",
   "pygments_lexer": "ipython3",
   "version": "3.7.4"
  }
 },
 "nbformat": 4,
 "nbformat_minor": 4
}
