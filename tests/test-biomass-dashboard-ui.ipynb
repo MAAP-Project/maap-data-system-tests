{
 "cells": [
  {
   "cell_type": "markdown",
   "metadata": {},
   "source": [
    "# Biomass Dashboard UI Tests"
   ]
  },
  {
   "cell_type": "code",
   "execution_count": 6,
   "metadata": {},
   "outputs": [],
   "source": [
    "from selenium import webdriver\n",
    "from selenium.webdriver.common.keys import Keys\n",
    "from selenium.webdriver.common.by import By\n",
    "from selenium.webdriver.firefox.options import Options\n"
   ]
  },
  {
   "cell_type": "code",
   "execution_count": 7,
   "metadata": {
    "tags": [
     "parameters"
    ]
   },
   "outputs": [],
   "source": [
    "# papermill parameters cell\n",
    "\n",
    "stage = \"dit\"\n"
   ]
  },
  {
   "cell_type": "code",
   "execution_count": 8,
   "metadata": {},
   "outputs": [],
   "source": [
    "def populate_bm_ui_host(stage):\n",
    "    if stage == \"production\":\n",
    "        return \"https://earthdata.nasa.gov/maap-biomass\"\n",
    "    elif stage == \"staging\":\n",
    "        return \"https://uat.earthdata.nasa.gov/maap-biomass\"\n",
    "    elif stage in [\"main\", \"dit\"]:\n",
    "        return \"https://biomass.dit.maap-project.org\"\n",
    "    else:\n",
    "        exit(1)\n",
    "\n",
    "bm_ui_host = populate_bm_ui_host(stage)\n"
   ]
  },
  {
   "cell_type": "code",
   "execution_count": 9,
   "metadata": {},
   "outputs": [],
   "source": [
    "options = Options()\n",
    "options.headless = True\n",
    "driver = webdriver.Firefox(options=options)\n",
    "\n",
    "try:\n",
    "  driver.get(bm_ui_host)\n",
    "  assert driver.title == \"Biomass Earthdata Dashboard\"\n",
    "  driver.implicitly_wait(20)  # seconds\n",
    "\n",
    "  # these elements are dynamically loaded from the API, so the app must have\n",
    "  # initialized successfully if they exist\n",
    "\n",
    "  # products\n",
    "  driver.find_element(By.XPATH, \"//li/a[@title='Explore All (Global)']\")\n",
    "  driver.find_element(By.XPATH, \"//li/a[@title='Explore CCI Biomass 2020']\")\n",
    "\n",
    "  # country pilots\n",
    "  driver.find_element(By.XPATH, \"//li/a[@title='Explore Japan']\")\n",
    "\n",
    "finally:\n",
    "  driver.close()\n"
   ]
  }
 ],
 "metadata": {
  "kernelspec": {
   "display_name": "Python 3 (ipykernel)",
   "language": "python",
   "name": "python3"
  },
  "language_info": {
   "codemirror_mode": {
    "name": "ipython",
    "version": 3
   },
   "file_extension": ".py",
   "mimetype": "text/x-python",
   "name": "python",
   "nbconvert_exporter": "python",
   "pygments_lexer": "ipython3",
   "version": "3.9.5"
  }
 },
 "nbformat": 4,
 "nbformat_minor": 4
}
